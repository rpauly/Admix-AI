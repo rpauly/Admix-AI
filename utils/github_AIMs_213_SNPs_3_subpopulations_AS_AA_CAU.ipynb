{
 "cells": [
  {
   "cell_type": "code",
   "execution_count": null,
   "id": "f4e0d411",
   "metadata": {},
   "outputs": [],
   "source": [
    "from __future__ import print_function\n",
    "import os, warnings \n",
    "warnings.simplefilter(action='ignore', category=FutureWarning)\n",
    "import sys \n",
    "import gzip\n",
    "import glob\n",
    "import json\n",
    "import time \n",
    "import argparse\n",
    "import numpy as np\n",
    "import pandas as pd\n",
    "from pandas import json_normalize\n",
    "from IPython.core.display import Image\n",
    "import tensorflow as tf\n",
    "from tensorflow import keras\n",
    "from pandas import json_normalize\n",
    "from tensorflow.keras.utils import to_categorical\n",
    "from sklearn import preprocessing\n",
    "from sklearn.model_selection import train_test_split\n",
    "from sklearn.metrics import accuracy_score\n",
    "from sklearn.preprocessing import StandardScaler, MinMaxScaler, MaxAbsScaler\n",
    "from sklearn.preprocessing import LabelEncoder, OneHotEncoder\n",
    "\n",
    "from tensorflow.keras.utils import to_categorical\n",
    "from keras import backend as K\n",
    "from keras.layers import Input, Dense, Dropout, Activation, Conv1D, MaxPooling1D, Flatten\n",
    "from keras import optimizers\n",
    "from tensorflow.keras.optimizers import SGD, Adam, RMSprop\n",
    "from keras.models import Sequential, Model, model_from_json, model_from_yaml\n",
    "from keras.utils import np_utils\n",
    "from keras.callbacks import ModelCheckpoint, CSVLogger, ReduceLROnPlateau"
   ]
  },
  {
   "cell_type": "code",
   "execution_count": null,
   "id": "0a511586",
   "metadata": {},
   "outputs": [],
   "source": [
    "genotype_input = pd.read_csv(\"<path_to_data>/data_213_WIT_AA_CAU_AS.csv\", low_memory=False, sep=\",\")\n",
    "genotype_input.iloc[0:3,[0,1,2]]"
   ]
  },
  {
   "cell_type": "code",
   "execution_count": null,
   "id": "cd0328b8",
   "metadata": {},
   "outputs": [],
   "source": [
    "genotype_input.shape"
   ]
  },
  {
   "cell_type": "code",
   "execution_count": null,
   "id": "af0ab5a1",
   "metadata": {},
   "outputs": [],
   "source": [
    "###getting the sample IDs\n",
    "cols = genotype_input.columns[1:].values.tolist()\n",
    "print(\"Length of cols variable: \",len(cols))\n",
    "print(\"First few Submitters_ID\", cols[0:4])"
   ]
  },
  {
   "cell_type": "code",
   "execution_count": null,
   "id": "93012392",
   "metadata": {},
   "outputs": [],
   "source": [
    "cols \n",
    "type(cols)\n",
    "with open('<path_to_data>/G_sample_names_all.tsv', 'w') as f:\n",
    "    for item in cols:\n",
    "        #print (item)\n",
    "        f.write(\"%s\\n\" % item)"
   ]
  },
  {
   "cell_type": "code",
   "execution_count": null,
   "id": "0ade5345",
   "metadata": {},
   "outputs": [],
   "source": [
    "# Transpose the data\n",
    "genotype_input_t = genotype_input.T\n",
    "genotype_input_t.shape"
   ]
  },
  {
   "cell_type": "code",
   "execution_count": null,
   "id": "6a0a56e2",
   "metadata": {},
   "outputs": [],
   "source": [
    "genotype_input_t.iloc[0:7, 0:3]"
   ]
  },
  {
   "cell_type": "code",
   "execution_count": null,
   "id": "5b93e433",
   "metadata": {},
   "outputs": [],
   "source": [
    "# remove the top row and save the output\n",
    "genotype_input_t = genotype_input_t.drop(genotype_input_t.index[0:1], axis=0)\n",
    "genotype_input_t.shape"
   ]
  },
  {
   "cell_type": "code",
   "execution_count": null,
   "id": "d6c953d6",
   "metadata": {},
   "outputs": [],
   "source": [
    "genotype_input_t.iloc[0:3, 0:2]"
   ]
  },
  {
   "cell_type": "code",
   "execution_count": null,
   "id": "29b1b201",
   "metadata": {},
   "outputs": [],
   "source": [
    "genotype_input_t = genotype_input_t.reset_index(drop=True)"
   ]
  },
  {
   "cell_type": "code",
   "execution_count": null,
   "id": "859e50e6",
   "metadata": {},
   "outputs": [],
   "source": [
    "# Drop the index (sample name row)\n",
    "features = genotype_input_t.drop(genotype_input_t.index[:0], axis=1)\n",
    "features.iloc[0:3, 0:2]"
   ]
  },
  {
   "cell_type": "code",
   "execution_count": null,
   "id": "576b159c",
   "metadata": {},
   "outputs": [],
   "source": [
    "features.to_csv('<path_to_data>/G_Test_all-datastypes.tsv', sep='\\t', index=False)\n",
    "df = pd.read_csv(\"<path_to_data>/G_Test_all-datastypes.tsv\", sep = \"\\t\", low_memory = False)\n",
    "df.head()"
   ]
  },
  {
   "cell_type": "code",
   "execution_count": null,
   "id": "c2a7806d",
   "metadata": {},
   "outputs": [],
   "source": [
    "print(\"There are {} samples.\".format(df.shape[0]))\n",
    "print(\"There are {} variants.\".format(df.shape[1]))"
   ]
  },
  {
   "cell_type": "code",
   "execution_count": null,
   "id": "76e084da",
   "metadata": {},
   "outputs": [],
   "source": [
    "##Initialize Model with 3 classes, CAU, AA, AS\n",
    "def create_model(num_classes):\n",
    "    \"\"\"\n",
    "    Creates model using number of genes as input and the number of cancer types as output.\n",
    "    \n",
    "    Parameters: \n",
    "    \n",
    "    Returns: model\n",
    "    \"\"\"\n",
    "    filters = 128\n",
    "    filter_len = 20\n",
    "    stride = 1\n",
    "\n",
    "    model = Sequential()\n",
    "    model.add(Conv1D(filters = filters,\n",
    "                     kernel_size = filter_len,\n",
    "                     strides = stride,\n",
    "                     padding='valid',\n",
    "                     input_shape=(213, 1)))\n",
    "    model.add(Activation('relu'))\n",
    "    model.add(MaxPooling1D(pool_size = 1))\n",
    "    model.add(Conv1D(filters = filters,\n",
    "                     kernel_size = filter_len,\n",
    "                     strides = stride,\n",
    "                     padding = 'valid'))\n",
    "    model.add(Activation('relu'))\n",
    "    model.add(MaxPooling1D(pool_size = 10))\n",
    "    model.add(Flatten())\n",
    "    model.add(Dense(200))\n",
    "    model.add(Activation('relu'))\n",
    "    model.add(Dropout(0.1))\n",
    "    model.add(Dense(20))\n",
    "    model.add(Activation('relu'))\n",
    "    model.add(Dropout(0.1))\n",
    "    model.add(Dense(num_classes))\n",
    "    model.add(Activation('softmax'))\n",
    "    \n",
    "    return model"
   ]
  },
  {
   "cell_type": "code",
   "execution_count": null,
   "id": "f6a31eeb",
   "metadata": {},
   "outputs": [],
   "source": [
    "#Choose numClasses, in this case we have 3 classes: CAU, AA, AS.\n",
    "#For 2 classes change numClasses=2\n",
    "numClasses=3\n",
    "selectedModel = create_model(numClasses)\n",
    "selectedModel.summary()"
   ]
  },
  {
   "cell_type": "code",
   "execution_count": null,
   "id": "8cd6d02e",
   "metadata": {},
   "outputs": [],
   "source": [
    "#Load model\n",
    "weight_mod='/<path_to_data>/RCNN_213_AA_CAU_AS.model.h5'"
   ]
  },
  {
   "cell_type": "code",
   "execution_count": null,
   "id": "defd3e4a",
   "metadata": {},
   "outputs": [],
   "source": [
    "def load_trained_weights(weight_mod, model):\n",
    "    \"\"\"\n",
    "    Load trained weights to the model based on the number of genes and background.\n",
    "    \n",
    "    \"\"\"\n",
    "    weights_path = '/<path_to_data>/RCNN_213_AA_CAU_AS.model.h5'\n",
    "    \n",
    "    model.load_weights(weights_path)\n",
    "    \n",
    "    print(\"Loading weights from: {}\".format(weights_path))\n",
    "    \n",
    "    return model"
   ]
  },
  {
   "cell_type": "code",
   "execution_count": null,
   "id": "35fbb0f5",
   "metadata": {},
   "outputs": [],
   "source": [
    "#Perfom admixture analysis using selectd model\n",
    "selectedModel = load_trained_weights(weight_mod, selectedModel)\n",
    "data = np.expand_dims(df, axis=2)\n",
    "predictions = selectedModel.predict(data)"
   ]
  },
  {
   "cell_type": "code",
   "execution_count": null,
   "id": "3a5b3325",
   "metadata": {},
   "outputs": [],
   "source": [
    "#Admixture probablity Prediction ising admix-AI\n",
    "labels_list =  ['AA',\n",
    "                    'AS',\n",
    "                   'CAU']\n",
    "pred_df = pd.DataFrame(predictions,columns = labels_list)\n",
    "pred_df[\"predicted_class\"] = pred_df.iloc[:,0:numClasses].idxmax(axis = 1)\n",
    "pred_df[\"probability\"] = pred_df.iloc[:,0:numClasses].max(axis = 1)\n",
    "pred_df.head(10)"
   ]
  },
  {
   "cell_type": "code",
   "execution_count": null,
   "id": "01221ecf",
   "metadata": {},
   "outputs": [],
   "source": [
    "#Input Sample names with Header (Input #2)\n",
    "sample_names = pd.read_table('/<path_to_data>/G_sample_names_all copy.tsv')\n",
    "sample_names"
   ]
  },
  {
   "cell_type": "code",
   "execution_count": null,
   "id": "57249d0d",
   "metadata": {},
   "outputs": [],
   "source": [
    "#Concatenate admixture probabilities to Sample names\n",
    "Final_pred=pred_df\n",
    "Final_pred['Sample_names']=sample_names.copy()\n",
    "Final_Pred"
   ]
  },
  {
   "cell_type": "code",
   "execution_count": null,
   "id": "30a4cd33",
   "metadata": {},
   "outputs": [],
   "source": [
    "#Write final Results to csv\n",
    "Final_pred.to_csv('/<path_to_data>/predictions_WITH_AA_CAU_AS.csv')"
   ]
  },
  {
   "cell_type": "code",
   "execution_count": null,
   "id": "f2ded2ca",
   "metadata": {},
   "outputs": [],
   "source": []
  }
 ],
 "metadata": {
  "kernelspec": {
   "display_name": "python/3.10",
   "language": "python",
   "name": "py3.10"
  },
  "language_info": {
   "codemirror_mode": {
    "name": "ipython",
    "version": 3
   },
   "file_extension": ".py",
   "mimetype": "text/x-python",
   "name": "python",
   "nbconvert_exporter": "python",
   "pygments_lexer": "ipython3",
   "version": "3.10.8"
  }
 },
 "nbformat": 4,
 "nbformat_minor": 5
}
